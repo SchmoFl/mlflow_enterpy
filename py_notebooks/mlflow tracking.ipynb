{
 "cells": [
  {
   "cell_type": "code",
   "execution_count": null,
   "metadata": {},
   "outputs": [],
   "source": [
    "from mlflow import tracking\n",
    "import pandas as pd\n",
    "import seaborn as sns\n",
    "import numpy as np\n",
    "import matplotlib.pyplot as plt\n",
    "from sklearn.linear_model import LinearRegression\n",
    "from sklearn.tree import DecisionTreeRegressor, export_graphviz\n",
    "import graphviz\n",
    "from sklearn.model_selection import GridSearchCV\n",
    "from sklearn.model_selection import train_test_split\n",
    "from sklearn.metrics import mean_squared_error, mean_absolute_error\n",
    "from sklearn.linear_model import LinearRegression\n",
    "from sklearn.tree import DecisionTreeRegressor"
   ]
  },
  {
   "cell_type": "markdown",
   "metadata": {},
   "source": [
    "# MLflow - Python API"
   ]
  },
  {
   "cell_type": "code",
   "execution_count": null,
   "metadata": {},
   "outputs": [],
   "source": [
    "client = tracking.MlflowClient()"
   ]
  },
  {
   "cell_type": "code",
   "execution_count": null,
   "metadata": {},
   "outputs": [],
   "source": [
    "experiment_id = client.create_experiment(\"test_new\")"
   ]
  },
  {
   "cell_type": "code",
   "execution_count": null,
   "metadata": {},
   "outputs": [],
   "source": [
    "experiments = client.list_experiments()\n",
    "experiments"
   ]
  },
  {
   "cell_type": "code",
   "execution_count": null,
   "metadata": {},
   "outputs": [],
   "source": [
    "run = client.create_run(experiments[0].experiment_id)\n",
    "run"
   ]
  },
  {
   "cell_type": "code",
   "execution_count": null,
   "metadata": {},
   "outputs": [],
   "source": [
    "client.log_param(run.info.run_id, \"param1\", \"hello world\")\n",
    "client.log_param(run.info.run_id, \"param2\", \"123\")\n",
    "client.set_tag(run.info.run_id, \"modelType\", \"test\")\n",
    "client.log_metric(run.info.run_id, \"metric1\", 30)"
   ]
  },
  {
   "cell_type": "code",
   "execution_count": null,
   "metadata": {},
   "outputs": [],
   "source": [
    "client.set_terminated(run.info.run_id)"
   ]
  },
  {
   "cell_type": "code",
   "execution_count": null,
   "metadata": {},
   "outputs": [],
   "source": [
    "client.get_run(run_id)"
   ]
  },
  {
   "cell_type": "code",
   "execution_count": null,
   "metadata": {},
   "outputs": [],
   "source": [
    "print_run_infos(mlflow.list_run_infos(\"1\"))"
   ]
  },
  {
   "cell_type": "markdown",
   "metadata": {},
   "source": [
    "# MLflow - tracking"
   ]
  },
  {
   "cell_type": "code",
   "execution_count": null,
   "metadata": {},
   "outputs": [],
   "source": [
    "import mlflow"
   ]
  },
  {
   "cell_type": "code",
   "execution_count": null,
   "metadata": {},
   "outputs": [],
   "source": [
    "tips = pd.read_csv(\"Daten/Tips_seaborn.csv\")\n",
    "\n",
    "tips = pd.get_dummies(data=tips, columns = [\"sex\", \"smoker\", \"day\", \"time\"], \n",
    "               drop_first=True)\n",
    "\n",
    "X = tips[tips.columns.difference([\"tip\"])]\n",
    "y = tips[\"tip\"]\n",
    "    \n",
    "X_train, X_test, y_train, y_test = train_test_split(X, y, test_size = 0.3, \n",
    "                                                    random_state = 42)"
   ]
  },
  {
   "cell_type": "markdown",
   "metadata": {},
   "source": [
    "## Tracking - Params and Metrics"
   ]
  },
  {
   "cell_type": "code",
   "execution_count": null,
   "metadata": {},
   "outputs": [],
   "source": [
    "with mlflow.start_run(experiment_id=\"1\"):\n",
    "    max_tree_depth = 4\n",
    "    min_samp_leaf = 20\n",
    "    \n",
    "    mlflow.log_param(\"max_depth\", max_tree_depth)\n",
    "    mlflow.log_param(\"min_samples_leaf\", min_samp_leaf)\n",
    "    mlflow.set_tag(\"model\", \"dec_tree\")\n",
    "    \n",
    "    dec_tree = DecisionTreeRegressor(min_samples_leaf=min_samp_leaf, \n",
    "                                     max_depth=max_tree_depth)\n",
    "    \n",
    "    \n",
    "    dec_tree.fit(X_train, y_train)\n",
    "    tree_predictions = dec_tree.predict(X_test)\n",
    "    mae = mean_absolute_error(y_test, tree_predictions)\n",
    "    rmse = mean_squared_error(y_test, tree_predictions, squared=False)\n",
    "    mlflow.log_metric(\"MAE\", mae)\n",
    "    mlflow.log_metric(\"RMSE\", rmse)"
   ]
  },
  {
   "cell_type": "markdown",
   "metadata": {},
   "source": [
    "## Tracking - Artifacts and Models"
   ]
  },
  {
   "cell_type": "code",
   "execution_count": null,
   "metadata": {},
   "outputs": [],
   "source": [
    "with mlflow.start_run(experiment_id=\"1\"):\n",
    "    max_tree_depth = 4\n",
    "    min_samp_leaf = 20\n",
    "    \n",
    "    mlflow.log_param(\"max_depth\", max_tree_depth)\n",
    "    mlflow.log_param(\"min_samples_leaf\", min_samp_leaf)\n",
    "    mlflow.set_tag(\"model\", \"dec_tree\")\n",
    "    dec_tree = DecisionTreeRegressor(min_samples_leaf=min_samp_leaf, \n",
    "                                     max_depth=max_tree_depth)\n",
    "    \n",
    "    \n",
    "    dec_tree.fit(X_train, y_train)\n",
    "    tree_predictions = dec_tree.predict(X_test)\n",
    "    mae = mean_absolute_error(y_test, tree_predictions)\n",
    "    rmse = mean_squared_error(y_test, tree_predictions, squared=False)\n",
    "    mlflow.log_metric(\"MAE\", mae)\n",
    "    mlflow.log_metric(\"RMSE\", rmse)\n",
    "    mlflow.sklearn.log_model(dec_tree, \"sk_models\")"
   ]
  },
  {
   "cell_type": "code",
   "execution_count": null,
   "metadata": {},
   "outputs": [],
   "source": [
    "logged_model = 'file:///home/pi/Documents/mlruns/1/c54d2150dca942da815a057c59fc41f5/artifacts/sk_models'\n",
    "\n",
    "# Load model as a PyFuncModel.\n",
    "loaded_model = mlflow.sklearn.load_model(logged_model)\n",
    "\n",
    "loaded_model.predict(X_test)"
   ]
  },
  {
   "cell_type": "code",
   "execution_count": null,
   "metadata": {},
   "outputs": [],
   "source": [
    "with mlflow.start_run(experiment_id=\"1\"):\n",
    "    max_tree_depth = 4\n",
    "    min_samp_leaf = 20\n",
    "    \n",
    "    mlflow.log_param(\"max_depth\", max_tree_depth)\n",
    "    mlflow.log_param(\"min_samples_leaf\", min_samp_leaf)\n",
    "    mlflow.set_tag(\"model\", \"dec_tree\")\n",
    "    dec_tree = DecisionTreeRegressor(min_samples_leaf=min_samp_leaf, \n",
    "                                     max_depth=max_tree_depth)\n",
    "    \n",
    "    \n",
    "    dec_tree.fit(X_train, y_train)\n",
    "    tree_predictions = dec_tree.predict(X_test)\n",
    "    mae = mean_absolute_error(y_test, tree_predictions)\n",
    "    rmse = mean_squared_error(y_test, tree_predictions, squared=False)\n",
    "    mlflow.log_metric(\"MAE\", mae)\n",
    "    mlflow.log_metric(\"RMSE\", rmse)\n",
    "    \n",
    "    dot_data = export_graphviz(dec_tree, \n",
    "                               out_file=None, \n",
    "                               feature_names=X_train.columns,\n",
    "                               label=\"all\", \n",
    "                               leaves_parallel=True, \n",
    "                               impurity=False, \n",
    "                               filled=True)\n",
    "\n",
    "    graph = graphviz.Source(dot_data)\n",
    "    graph.format = \"png\"\n",
    "    graph.view(filename=\"dec_tree\")\n",
    "    mlflow.log_artifact(\"dec_tree.png\")"
   ]
  },
  {
   "cell_type": "markdown",
   "metadata": {},
   "source": [
    "## Praxisphase III\n",
    "\n",
    "Trainiere ein beliebiges sklearn-Modell (z.B. Decision/Regression Tree) an einem anderen Datensatz, den du zuvor in Trainings- und Testdaten unterteilst. Trainiere das Modell innerhalb eines runs eines mlflow-Experiments (entweder in einem neuen oder einem bestehenden). Logge dabei die von dir gesetzten Hyperparameter sowie beliebige Metriken und ein Tag, das die Modellklasse beschreibt. Logge in einem zweiten run das Modell selbst und/oder eine Visualisierung oder eine beliebige Textdatei."
   ]
  },
  {
   "cell_type": "markdown",
   "metadata": {},
   "source": [
    "## Tracking - autolog"
   ]
  },
  {
   "cell_type": "code",
   "execution_count": null,
   "metadata": {},
   "outputs": [],
   "source": [
    "mlflow.sklearn.autolog(log_input_examples=False, \n",
    "                       log_model_signatures=True, \n",
    "                       log_models=False, \n",
    "                       disable=False, \n",
    "                       exclusive=False, \n",
    "                       disable_for_unsupported_versions=False, \n",
    "                       silent=False)"
   ]
  },
  {
   "cell_type": "code",
   "execution_count": null,
   "metadata": {},
   "outputs": [],
   "source": [
    "param_grid = {\"min_samples_leaf\": list(np.linspace(20, 70, 6, dtype = \"int64\")),\n",
    "              \"min_samples_split\": list(np.linspace(50, 80, 4, dtype=\"int64\")),\n",
    "              \"min_impurity_decrease\": [0.05, 0.1, 0.15, 0.2]}\n",
    "\n",
    "dec_tree = DecisionTreeRegressor()\n",
    "\n",
    "gs_tree = GridSearchCV(dec_tree, param_grid, cv = 5)\n",
    "\n",
    "with mlflow.start_run(experiment_id=\"4\") as run:\n",
    "    gs_tree.fit(X_train, y_train)\n",
    "    tree_predictions = gs_tree.predict(X_test)\n",
    "    mae = mean_absolute_error(y_test, tree_predictions)\n",
    "    rmse = mean_squared_error(y_test, tree_predictions, squared=False)\n",
    "    mlflow.log_metric(\"MAE\", mae)\n",
    "    mlflow.log_metric(\"RMSE\", rmse)"
   ]
  },
  {
   "cell_type": "code",
   "execution_count": null,
   "metadata": {},
   "outputs": [],
   "source": [
    "mlflow.sklearn.autolog(disable=True)"
   ]
  },
  {
   "cell_type": "markdown",
   "metadata": {},
   "source": [
    "## Praxisphase IIIb\n",
    "\n",
    "Passe deinen Workflow aus III so an, dass du via Cross-Validation die beste Hyperparameterkombination aus einem von dir definierten Parameter-Grid findest. Benutze die autolog-Methode, um die einzelnen runs der Grid-Search innerhalb eines übergeordneten runs zu tracken."
   ]
  }
 ],
 "metadata": {
  "kernelspec": {
   "display_name": "Python 3",
   "language": "python",
   "name": "python3"
  },
  "language_info": {
   "codemirror_mode": {
    "name": "ipython",
    "version": 3
   },
   "file_extension": ".py",
   "mimetype": "text/x-python",
   "name": "python",
   "nbconvert_exporter": "python",
   "pygments_lexer": "ipython3",
   "version": "3.7.3"
  }
 },
 "nbformat": 4,
 "nbformat_minor": 2
}
