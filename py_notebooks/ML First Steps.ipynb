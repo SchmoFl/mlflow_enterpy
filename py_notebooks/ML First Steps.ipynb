{
 "cells": [
  {
   "cell_type": "code",
   "execution_count": null,
   "metadata": {},
   "outputs": [],
   "source": [
    "import pandas as pd\n",
    "import seaborn as sns\n",
    "import numpy as np\n",
    "import matplotlib.pyplot as plt\n",
    "from sklearn.linear_model import LinearRegression\n",
    "from sklearn.tree import DecisionTreeRegressor, export_graphviz\n",
    "import graphviz"
   ]
  },
  {
   "cell_type": "markdown",
   "metadata": {},
   "source": [
    "# Explorative Datenanalyse und Erste Modelle"
   ]
  },
  {
   "cell_type": "code",
   "execution_count": null,
   "metadata": {},
   "outputs": [],
   "source": [
    "ysnp = pd.read_csv(\"Daten/ysnp.csv\")\n",
    "\n",
    "ysnp.head(3)"
   ]
  },
  {
   "cell_type": "code",
   "execution_count": null,
   "metadata": {},
   "outputs": [],
   "source": [
    "ysnp.columns"
   ]
  },
  {
   "cell_type": "code",
   "execution_count": null,
   "metadata": {},
   "outputs": [],
   "source": [
    "ysnp.shape"
   ]
  },
  {
   "cell_type": "code",
   "execution_count": null,
   "metadata": {},
   "outputs": [],
   "source": [
    "# Umrechnung von Fahrenheit in Celsius\n",
    "ysnp.filter(regex = \"Temperature\")"
   ]
  },
  {
   "cell_type": "code",
   "execution_count": null,
   "metadata": {},
   "outputs": [],
   "source": [
    "Temp_cols = ysnp.filter(regex = \"Temperature\").columns\n",
    "\n",
    "ysnp[Temp_cols] = ysnp[Temp_cols].apply(lambda x: (x - 32)/1.8)\n",
    "\n",
    "ysnp.columns = list(map(lambda x: x.replace('(F)', '(C)'), \n",
    "                        ysnp.columns))"
   ]
  },
  {
   "cell_type": "code",
   "execution_count": null,
   "metadata": {},
   "outputs": [],
   "source": [
    "ysnp.dtypes"
   ]
  },
  {
   "cell_type": "code",
   "execution_count": null,
   "metadata": {},
   "outputs": [],
   "source": [
    "ysnp[\"Year/Month/Day\"] = pd.to_datetime(ysnp[\"Year/Month/Day\"], \n",
    "    format = '%Y/%m/%d')\n",
    "\n",
    "ysnp[\"Year/Month/Day\"].agg({\"min\", \"max\"})\n",
    "\n",
    "ysnp[\"Year\"] = ysnp[\"Year/Month/Day\"].apply(lambda x: x.year)\n",
    "ysnp[\"Year\"].head()\n",
    "\n",
    "ysnp[\"Month\"] = ysnp[\"Year/Month/Day\"].apply(lambda x: x.month)"
   ]
  },
  {
   "cell_type": "code",
   "execution_count": null,
   "metadata": {},
   "outputs": [],
   "source": [
    "# Anzahl der Beobachtungen pro Jahr\n",
    "ysnp.groupby(\"Year\").size()\n",
    "set(ysnp.groupby(\"Year\").size())"
   ]
  },
  {
   "cell_type": "code",
   "execution_count": null,
   "metadata": {},
   "outputs": [],
   "source": [
    "# Fehlende Werte\n",
    "ysnp.info()"
   ]
  },
  {
   "cell_type": "code",
   "execution_count": null,
   "metadata": {},
   "outputs": [],
   "source": [
    "ysnp = ysnp.dropna()"
   ]
  },
  {
   "cell_type": "code",
   "execution_count": null,
   "metadata": {},
   "outputs": [],
   "source": [
    "# Visualisierungen\n",
    "Plot_Data = ysnp[ysnp.columns.difference([\"Year/Month/Day\", \n",
    "                                          \"Month\", \n",
    "                                          \"Year\", \n",
    "                                          \"Recreation Visits\"])]\n",
    "\n",
    "sns.boxplot(data = Plot_Data)\n",
    "plt.xticks(rotation = 90)\n",
    "plt.tight_layout()\n"
   ]
  },
  {
   "cell_type": "code",
   "execution_count": null,
   "metadata": {},
   "outputs": [],
   "source": [
    "sns.lineplot(x = \"Year/Month/Day\", y = \"Recreation Visits\", data = ysnp)"
   ]
  },
  {
   "cell_type": "code",
   "execution_count": null,
   "metadata": {},
   "outputs": [],
   "source": [
    "sns.boxplot(x = \"Month\", y = \"Recreation Visits\", data = ysnp)"
   ]
  },
  {
   "cell_type": "code",
   "execution_count": null,
   "metadata": {},
   "outputs": [],
   "source": [
    "sns.lmplot(x = \"MeanTemperature(C)\", y = \"Recreation Visits\", \n",
    "           data = ysnp)"
   ]
  },
  {
   "cell_type": "code",
   "execution_count": null,
   "metadata": {},
   "outputs": [],
   "source": [
    "# Umwandeln des Monats in Dummy-Variablen\n",
    "pd.get_dummies(data = ysnp[\"Month\"], columns = \"Month\", \n",
    "               drop_first=True)\n"
   ]
  },
  {
   "cell_type": "markdown",
   "metadata": {},
   "source": [
    "## Lineare Regression"
   ]
  },
  {
   "cell_type": "code",
   "execution_count": null,
   "metadata": {},
   "outputs": [],
   "source": [
    "ysnp = pd.get_dummies(data = ysnp, columns = [\"Month\"], \n",
    "                      drop_first=True)\n",
    "\n",
    "# Lineare Regression mit scikit-learn\n",
    "X = ysnp[[\"MeanTemperature(C)\"]]\n",
    "\n",
    "y = ysnp[\"Recreation Visits\"]\n",
    "\n",
    "RegMod = LinearRegression(fit_intercept=True)\n",
    "\n",
    "RegMod.fit(X, y)"
   ]
  },
  {
   "cell_type": "code",
   "execution_count": null,
   "metadata": {},
   "outputs": [],
   "source": [
    "RegMod.coef_"
   ]
  },
  {
   "cell_type": "code",
   "execution_count": null,
   "metadata": {},
   "outputs": [],
   "source": [
    "RegMod.intercept_"
   ]
  },
  {
   "cell_type": "code",
   "execution_count": null,
   "metadata": {},
   "outputs": [],
   "source": [
    "RegMod.score(X, y)"
   ]
  },
  {
   "cell_type": "code",
   "execution_count": null,
   "metadata": {},
   "outputs": [],
   "source": [
    "# Berechnung der Residuen (Fehler)\n",
    "Residuals_model = y - RegMod.predict(X)\n",
    "Residuals_model\n",
    "\n",
    "Residuals_Df = pd.DataFrame(Residuals_model).rename(columns = {'Recreation Visits':'Residuen'})\n",
    "\n",
    "# Visualisierung der Fehlerverteilung --> im Allgemeinen sollten die Fehler normalverteilt (also zufällig) sein\n",
    "Residuals_Df.plot(kind = \"hist\", legend = False)"
   ]
  },
  {
   "cell_type": "code",
   "execution_count": null,
   "metadata": {},
   "outputs": [],
   "source": [
    "# Berechnung einer linearen Regression mit mehr als einem Feature\n",
    "X = ysnp[ysnp.columns.difference([\"Recreation Visits\",\n",
    "                                  \"Year/Month/Day\",\n",
    "                                  \"Year\"])]\n",
    "y = ysnp[\"Recreation Visits\"]\n",
    "\n",
    "RegMod_2 = LinearRegression(fit_intercept=True)\n",
    "RegMod_2.fit(X, y)\n",
    "\n",
    "RegMod_2.coef_\n",
    "RegMod_2.score(X, y)"
   ]
  },
  {
   "cell_type": "code",
   "execution_count": null,
   "metadata": {},
   "outputs": [],
   "source": [
    "pd.DataFrame(y - RegMod_2.predict(X)).plot(kind=\"hist\", legend=False)"
   ]
  },
  {
   "cell_type": "markdown",
   "metadata": {},
   "source": [
    "## Decision/Regression Trees"
   ]
  },
  {
   "cell_type": "code",
   "execution_count": null,
   "metadata": {},
   "outputs": [],
   "source": [
    "tips = pd.read_csv(\"Daten/Tips_seaborn.csv\")\n",
    "tips = sns.load_dataset(\"Tips\")\n",
    "\n",
    "tips.head(3)"
   ]
  },
  {
   "cell_type": "code",
   "execution_count": null,
   "metadata": {},
   "outputs": [],
   "source": [
    "tips = pd.get_dummies(data=tips, columns = [\"sex\", \"smoker\", \"day\", \"time\"], \n",
    "               drop_first=True)"
   ]
  },
  {
   "cell_type": "code",
   "execution_count": null,
   "metadata": {},
   "outputs": [],
   "source": [
    "reg_tree = DecisionTreeRegressor(min_samples_leaf=20)\n",
    "\n",
    "X = tips[tips.columns.difference([\"tip\"])]\n",
    "\n",
    "y = tips[\"tip\"]\n",
    "\n",
    "reg_tree.fit(X,y)\n",
    "\n",
    "reg_tree.score(X, y)\n",
    "\n",
    "dot_data = export_graphviz(reg_tree, out_file=None, feature_names=X.columns,\n",
    "                           label = \"all\", leaves_parallel = True, \n",
    "                           impurity = False, filled=True)\n",
    "\n",
    "graph = graphviz.Source(dot_data)\n",
    "graph.format = \"png\"\n",
    "graph.view(filename=\"dec_tree\")"
   ]
  },
  {
   "cell_type": "code",
   "execution_count": null,
   "metadata": {},
   "outputs": [],
   "source": [
    "from IPython.display import Image\n",
    "Image('dec_tree.png')"
   ]
  },
  {
   "cell_type": "markdown",
   "metadata": {},
   "source": [
    "## Praxisphase I \n",
    "\n",
    "Lade dir einen neuen Datensatz in die Session:\n",
    "\n",
    "* Eins der csv-files aus dem git-repo\n",
    "* Mithilfe der seaborn-Library, s. Funktion seaborn.load_dataset und https://github.com/mwaskom/seaborn-data für verfügbare Datensätze\n",
    "* Einen eigenen Datensatz\n",
    "\n",
    "Verschaffe dir einen Überblick, wähle Ziel- und voraussagende Variablen aus und erstelle ein erstes Modell (z.B. DecisionTree).\n"
   ]
  },
  {
   "cell_type": "markdown",
   "metadata": {},
   "source": [
    "# Basic Machine Learning "
   ]
  },
  {
   "cell_type": "markdown",
   "metadata": {},
   "source": [
    "## Training/Test-Split"
   ]
  },
  {
   "cell_type": "code",
   "execution_count": null,
   "metadata": {},
   "outputs": [],
   "source": [
    "from sklearn.model_selection import GridSearchCV\n",
    "from sklearn.model_selection import train_test_split\n",
    "from sklearn.metrics import mean_squared_error, mean_absolute_error"
   ]
  },
  {
   "cell_type": "code",
   "execution_count": null,
   "metadata": {},
   "outputs": [],
   "source": [
    "X = ysnp[ysnp.columns.difference([\"Recreation Visits\", \"Year/Month/Day\", \"Year\"])]\n",
    "y = ysnp[\"Recreation Visits\"]\n",
    "\n",
    "X_train, X_test, y_train, y_test = train_test_split(X, y, test_size = 0.3, \n",
    "                                                    random_state = 42)"
   ]
  },
  {
   "cell_type": "code",
   "execution_count": null,
   "metadata": {},
   "outputs": [],
   "source": [
    "# Trainiere einen Regression-Tree auf den Trainingsdaten\n",
    "dec_tree = DecisionTreeRegressor(min_samples_leaf = 20, max_depth = 4)\n",
    "dec_tree.fit(X_train, y_train)\n",
    "\n",
    "\n",
    "# Trainiere eine Lineare Regression auf den Trainingsdaten\n",
    "lin_reg = LinearRegression(fit_intercept = True)\n",
    "lin_reg.fit(X_train, y_train)\n",
    "\n",
    "# Wende die Modelle auf die Testdaten an\n",
    "tree_predictions = dec_tree.predict(X_test)\n",
    "lin_reg_predictions = lin_reg.predict(X_test)"
   ]
  },
  {
   "cell_type": "code",
   "execution_count": null,
   "metadata": {},
   "outputs": [],
   "source": [
    "mean_absolute_error(y_test, tree_predictions)"
   ]
  },
  {
   "cell_type": "code",
   "execution_count": null,
   "metadata": {},
   "outputs": [],
   "source": [
    "mean_absolute_error(y_test, lin_reg_predictions)"
   ]
  },
  {
   "cell_type": "code",
   "execution_count": null,
   "metadata": {},
   "outputs": [],
   "source": [
    "param_grid = {\"min_samples_leaf\": list(np.linspace(20, 70, 6, dtype = \"int64\")),\n",
    "              \"min_samples_split\": list(np.linspace(50, 80, 4, dtype=\"int64\")),\n",
    "              \"min_impurity_decrease\": [0.05, 0.1, 0.15, 0.2]}\n",
    "\n",
    "ysnp_tree = DecisionTreeRegressor()\n",
    "\n",
    "gs_tree = GridSearchCV(ysnp_tree, param_grid, cv = 5)\n",
    "\n",
    "gs_tree.fit(X_train, y_train)"
   ]
  },
  {
   "cell_type": "code",
   "execution_count": null,
   "metadata": {},
   "outputs": [],
   "source": [
    "gs_tree.best_params_"
   ]
  },
  {
   "cell_type": "code",
   "execution_count": null,
   "metadata": {},
   "outputs": [],
   "source": [
    "gs_tree.best_estimator_"
   ]
  },
  {
   "cell_type": "code",
   "execution_count": null,
   "metadata": {},
   "outputs": [],
   "source": [
    "gs_tree.best_score_"
   ]
  },
  {
   "cell_type": "code",
   "execution_count": null,
   "metadata": {},
   "outputs": [],
   "source": [
    "preds = gs_tree.predict(X_test)\n",
    "\n",
    "mean_absolute_error(y_test, preds)"
   ]
  },
  {
   "cell_type": "markdown",
   "metadata": {},
   "source": [
    "## Praxisphase II \n",
    "\n",
    "Wähle einen neuen Datensatz aus und bestimme Zielvariable sowie voraussagende Variablen.\n",
    "\n",
    "1. Erstelle ein Trainings- und Testsplit\n",
    "1. Erstelle ein parameter-grid für einen Decision Tree (oder für ein anderes sklearn-Modell, s. Doku)\n",
    "1. Bestimme die beste Hyperparameterkombination mithilfe einer Cross-Validation\n",
    "1. Wende das Modell auf die Testdaten an und bestimme die Güte anhand einer beliebigen Metrik\n"
   ]
  }
 ],
 "metadata": {
  "kernelspec": {
   "display_name": "Python 3",
   "language": "python",
   "name": "python3"
  },
  "language_info": {
   "codemirror_mode": {
    "name": "ipython",
    "version": 3
   },
   "file_extension": ".py",
   "mimetype": "text/x-python",
   "name": "python",
   "nbconvert_exporter": "python",
   "pygments_lexer": "ipython3",
   "version": "3.7.3"
  }
 },
 "nbformat": 4,
 "nbformat_minor": 2
}
