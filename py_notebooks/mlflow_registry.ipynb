{
 "cells": [
  {
   "cell_type": "code",
   "execution_count": null,
   "metadata": {},
   "outputs": [],
   "source": [
    "from mlflow import tracking\n",
    "import mlflow\n",
    "import pandas as pd\n",
    "import numpy as np\n",
    "from sklearn.tree import DecisionTreeRegressor\n",
    "from sklearn.model_selection import GridSearchCV, train_test_split\n",
    "from sklearn.metrics import mean_squared_error, mean_absolute_error"
   ]
  },
  {
   "cell_type": "markdown",
   "metadata": {},
   "source": [
    "# mlflow registry"
   ]
  },
  {
   "cell_type": "markdown",
   "metadata": {},
   "source": [
    "# Mithilfe der UI"
   ]
  },
  {
   "cell_type": "code",
   "execution_count": null,
   "metadata": {},
   "outputs": [],
   "source": [
    "tips = pd.read_csv(\"Daten/Tips_seaborn.csv\")\n",
    "\n",
    "tips = pd.get_dummies(data=tips, columns = [\"sex\", \"smoker\", \"day\", \"time\"], \n",
    "               drop_first=True)\n",
    "\n",
    "X = tips[tips.columns.difference([\"tip\"])]\n",
    "y = tips[\"tip\"]\n",
    "    \n",
    "X_train, X_test, y_train, y_test = train_test_split(X, y, test_size = 0.3, \n",
    "                                                    random_state = 42)"
   ]
  },
  {
   "cell_type": "code",
   "execution_count": null,
   "metadata": {},
   "outputs": [],
   "source": [
    "# mlflow ui -h 0.0.0.0 --backend-store-ui sqlite:///mlflow.db"
   ]
  },
  {
   "cell_type": "code",
   "execution_count": null,
   "metadata": {},
   "outputs": [],
   "source": [
    "mlflow.set_tracking_uri(\"http://localhost:5000\")\n",
    "mlflow.set_registry_uri(\"http://localhost:5000\")"
   ]
  },
  {
   "cell_type": "code",
   "execution_count": null,
   "metadata": {},
   "outputs": [],
   "source": [
    "with mlflow.start_run(experiment_id=\"1\"):\n",
    "    max_tree_depth = 4\n",
    "    min_samp_leaf = 20\n",
    "    \n",
    "    mlflow.log_param(\"max_depth\", max_tree_depth)\n",
    "    mlflow.log_param(\"min_samples_leaf\", min_samp_leaf)\n",
    "    mlflow.set_tag(\"model\", \"dec_tree\")\n",
    "    dec_tree = DecisionTreeRegressor(min_samples_leaf=min_samp_leaf, \n",
    "                                     max_depth=max_tree_depth)\n",
    "    \n",
    "    \n",
    "    dec_tree.fit(X_train, y_train)\n",
    "    tree_predictions = dec_tree.predict(X_test)\n",
    "    mae = mean_absolute_error(y_test, tree_predictions)\n",
    "    rmse = mean_squared_error(y_test, tree_predictions, squared=False)\n",
    "    mlflow.log_metric(\"MAE\", mae)\n",
    "    mlflow.log_metric(\"RMSE\", rmse)\n",
    "    mlflow.sklearn.log_model(dec_tree, \"sk_tree_model\")"
   ]
  },
  {
   "cell_type": "code",
   "execution_count": null,
   "metadata": {},
   "outputs": [],
   "source": [
    "# export MLFLOW_TRACKING_URI=http://localhost:5000\n",
    "# mlflow models serve -m \"models:/my_first_tree/Production\" --no-conda -p 1234"
   ]
  },
  {
   "cell_type": "code",
   "execution_count": null,
   "metadata": {},
   "outputs": [],
   "source": [
    "import requests\n",
    "host = 'localhost'\n",
    "port = '1234'\n",
    "url = f'http://{host}:{port}/invocations'\n",
    "headers = {'Content-Type': 'application/json',}\n",
    "# test contains our data from the original train/valid/test split\n",
    "http_data = X_test.head(5).to_json(orient='split')\n",
    "r = requests.post(url=url, headers=headers, data=http_data)\n",
    "print(f'Predictions: {r.text}')"
   ]
  },
  {
   "cell_type": "markdown",
   "metadata": {},
   "source": [
    "## Praxisphase Va\n",
    "\n",
    "Starte einen mlflow-server/-ui mit einem DB-Backend und setze die tracking-/artifact-uri in deiner python-Session. Starte anschließend einen neuen experiment-run und logge dabei ein Modell. Registriere das Modell über die UI. "
   ]
  },
  {
   "cell_type": "markdown",
   "metadata": {},
   "source": [
    "# Mithilfe der API\n",
    "## Mit der *log_model*-Funktion"
   ]
  },
  {
   "cell_type": "code",
   "execution_count": null,
   "metadata": {},
   "outputs": [],
   "source": [
    "with mlflow.start_run(experiment_id=\"1\"):\n",
    "    max_tree_depth = 4\n",
    "    min_samp_leaf = 20\n",
    "    \n",
    "    mlflow.log_param(\"max_depth\", max_tree_depth)\n",
    "    mlflow.log_param(\"min_samples_leaf\", min_samp_leaf)\n",
    "    mlflow.set_tag(\"model\", \"dec_tree\")\n",
    "    dec_tree = DecisionTreeRegressor(min_samples_leaf=min_samp_leaf, \n",
    "                                     max_depth=max_tree_depth)\n",
    "    \n",
    "    \n",
    "    dec_tree.fit(X_train, y_train)\n",
    "    tree_predictions = dec_tree.predict(X_test)\n",
    "    mae = mean_absolute_error(y_test, tree_predictions)\n",
    "    rmse = mean_squared_error(y_test, tree_predictions, squared=False)\n",
    "    mlflow.log_metric(\"MAE\", mae)\n",
    "    mlflow.log_metric(\"RMSE\", rmse)\n",
    "\n",
    "    # Log the sklearn model and register as version 1\n",
    "    mlflow.sklearn.log_model(\n",
    "        sk_model=dec_tree,\n",
    "        artifact_path=\"sk_tree_model\",\n",
    "        registered_model_name=\"my_second_tree\"\n",
    "    )"
   ]
  },
  {
   "cell_type": "markdown",
   "metadata": {},
   "source": [
    "## Mit der *register_model*-Funktion"
   ]
  },
  {
   "cell_type": "code",
   "execution_count": null,
   "metadata": {},
   "outputs": [],
   "source": [
    "with mlflow.start_run(experiment_id=\"1\"):\n",
    "    max_tree_depth = 4\n",
    "    min_samp_leaf = 20\n",
    "    \n",
    "    mlflow.log_param(\"max_depth\", max_tree_depth)\n",
    "    mlflow.log_param(\"min_samples_leaf\", min_samp_leaf)\n",
    "    mlflow.set_tag(\"model\", \"dec_tree\")\n",
    "    dec_tree = DecisionTreeRegressor(min_samples_leaf=min_samp_leaf, \n",
    "                                     max_depth=max_tree_depth)\n",
    "    \n",
    "    \n",
    "    dec_tree.fit(X_train, y_train)\n",
    "    tree_predictions = dec_tree.predict(X_test)\n",
    "    mae = mean_absolute_error(y_test, tree_predictions)\n",
    "    rmse = mean_squared_error(y_test, tree_predictions, squared=False)\n",
    "    mlflow.log_metric(\"MAE\", mae)\n",
    "    mlflow.log_metric(\"RMSE\", rmse)\n",
    "    mlflow.sklearn.log_model(dec_tree, \"sk_tree_model\")"
   ]
  },
  {
   "cell_type": "code",
   "execution_count": null,
   "metadata": {},
   "outputs": [],
   "source": [
    "result = mlflow.register_model(\n",
    "    \"runs:/717a84cb36c34c0b8197617220c107f5/sk_tree_model\",\n",
    "    \"my_third_tree\"\n",
    ")"
   ]
  },
  {
   "cell_type": "markdown",
   "metadata": {},
   "source": [
    "## Mit einem lokalen Client"
   ]
  },
  {
   "cell_type": "code",
   "execution_count": null,
   "metadata": {},
   "outputs": [],
   "source": [
    "from mlflow.tracking import MlflowClient\n",
    "\n",
    "client = MlflowClient(tracking_uri=\"http://localhost:5000\")"
   ]
  },
  {
   "cell_type": "code",
   "execution_count": null,
   "metadata": {},
   "outputs": [],
   "source": [
    "with mlflow.start_run(experiment_id=\"1\"):\n",
    "    max_tree_depth = 5\n",
    "    min_samp_leaf = 15\n",
    "    \n",
    "    mlflow.log_param(\"max_depth\", max_tree_depth)\n",
    "    mlflow.log_param(\"min_samples_leaf\", min_samp_leaf)\n",
    "    mlflow.set_tag(\"model\", \"dec_tree\")\n",
    "    dec_tree = DecisionTreeRegressor(min_samples_leaf=min_samp_leaf, \n",
    "                                     max_depth=max_tree_depth)\n",
    "    \n",
    "    \n",
    "    dec_tree.fit(X_train, y_train)\n",
    "    tree_predictions = dec_tree.predict(X_test)\n",
    "    mae = mean_absolute_error(y_test, tree_predictions)\n",
    "    rmse = mean_squared_error(y_test, tree_predictions, squared=False)\n",
    "    mlflow.log_metric(\"MAE\", mae)\n",
    "    mlflow.log_metric(\"RMSE\", rmse)\n",
    "    mlflow.sklearn.log_model(dec_tree, \"sk_tree_model\")"
   ]
  },
  {
   "cell_type": "code",
   "execution_count": null,
   "metadata": {},
   "outputs": [],
   "source": [
    "client.create_registered_model(\"empty_model\")"
   ]
  },
  {
   "cell_type": "code",
   "execution_count": null,
   "metadata": {},
   "outputs": [],
   "source": [
    "result = client.create_model_version(\n",
    "    name=\"empty_model\",\n",
    "    source=\"mlruns/1/269f8cf9cdb54d92a3e4b71e15ae7e3f/artifacts/sk_tree_model\",\n",
    "    run_id=\"269f8cf9cdb54d92a3e4b71e15ae7e3f\"\n",
    ")"
   ]
  },
  {
   "cell_type": "code",
   "execution_count": null,
   "metadata": {},
   "outputs": [],
   "source": [
    "client.rename_registered_model(\n",
    "    name=\"empty_model\",\n",
    "    new_name=\"non_empty_model\"\n",
    ")\n"
   ]
  },
  {
   "cell_type": "code",
   "execution_count": null,
   "metadata": {},
   "outputs": [],
   "source": [
    "client.transition_model_version_stage(\n",
    "    name=\"non_empty_model\",\n",
    "    version=1,\n",
    "    stage=\"Staging\"\n",
    ")"
   ]
  },
  {
   "cell_type": "code",
   "execution_count": null,
   "metadata": {},
   "outputs": [],
   "source": [
    "client.delete_registered_model(name=\"non_empty_model\")"
   ]
  },
  {
   "cell_type": "markdown",
   "metadata": {},
   "source": [
    "## Praxisphase Vb\n",
    "\n",
    "Starte einen mlflow-server/-ui mit einem DB-Backend und setze die tracking-/artifact-uri in deiner python-Session. Logge und registriere ein Modell auf eine der drei gezeigten Weisen."
   ]
  }
 ],
 "metadata": {
  "kernelspec": {
   "display_name": "Python 3",
   "language": "python",
   "name": "python3"
  },
  "language_info": {
   "codemirror_mode": {
    "name": "ipython",
    "version": 3
   },
   "file_extension": ".py",
   "mimetype": "text/x-python",
   "name": "python",
   "nbconvert_exporter": "python",
   "pygments_lexer": "ipython3",
   "version": "3.7.3"
  }
 },
 "nbformat": 4,
 "nbformat_minor": 2
}
