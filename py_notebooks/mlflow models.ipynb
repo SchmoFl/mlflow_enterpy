{
 "cells": [
  {
   "cell_type": "code",
   "execution_count": null,
   "metadata": {},
   "outputs": [],
   "source": [
    "from mlflow import tracking\n",
    "import mlflow\n",
    "import pandas as pd\n",
    "import numpy as np\n",
    "from sklearn.tree import DecisionTreeRegressor\n",
    "from sklearn.model_selection import GridSearchCV, train_test_split\n",
    "from sklearn.metrics import mean_squared_error, mean_absolute_error"
   ]
  },
  {
   "cell_type": "code",
   "execution_count": null,
   "metadata": {},
   "outputs": [],
   "source": [
    "tips = pd.read_csv(\"Daten/Tips_seaborn.csv\")\n",
    "#tips = sns.load_dataset(\"Tips\")\n",
    "\n",
    "tips = pd.get_dummies(data=tips, columns = [\"sex\", \"smoker\", \"day\", \"time\"], \n",
    "               drop_first=True)\n",
    "\n",
    "X = tips[tips.columns.difference([\"tip\"])]\n",
    "y = tips[\"tip\"]\n",
    "    \n",
    "X_train, X_test, y_train, y_test = train_test_split(X, y, test_size = 0.3, \n",
    "                                                    random_state = 42)\n",
    "\n",
    "dec_tree = DecisionTreeRegressor(min_samples_leaf=20, \n",
    "                                     max_depth=4)\n",
    "    \n",
    "    \n",
    "dec_tree.fit(X_train, y_train)"
   ]
  },
  {
   "cell_type": "code",
   "execution_count": null,
   "metadata": {},
   "outputs": [],
   "source": [
    "dec_tree"
   ]
  },
  {
   "cell_type": "markdown",
   "metadata": {},
   "source": [
    "## Modell Speichern"
   ]
  },
  {
   "cell_type": "code",
   "execution_count": null,
   "metadata": {},
   "outputs": [],
   "source": [
    "mlflow.sklearn.save_model(dec_tree, 'dec_tree_model')\n",
    "# mlflow models serve -m dec_tree_model --port 1234 --no-conda"
   ]
  },
  {
   "cell_type": "markdown",
   "metadata": {},
   "source": [
    "## Modell laden"
   ]
  },
  {
   "cell_type": "code",
   "execution_count": null,
   "metadata": {},
   "outputs": [],
   "source": [
    "mlflow.sklearn.load_model('dec_tree_model')"
   ]
  },
  {
   "cell_type": "code",
   "execution_count": null,
   "metadata": {},
   "outputs": [],
   "source": [
    "mlflow.pyfunc.load_model('dec_tree_model')"
   ]
  },
  {
   "cell_type": "markdown",
   "metadata": {},
   "source": [
    "## Prediction durch REST-Endpunkt"
   ]
  },
  {
   "cell_type": "code",
   "execution_count": null,
   "metadata": {},
   "outputs": [],
   "source": [
    "import requests\n",
    "host = 'localhost'\n",
    "port = '1234'\n",
    "url = f'http://{host}:{port}/invocations'\n",
    "headers = {'Content-Type': 'application/json',}\n",
    "# test contains our data from the original train/valid/test split\n",
    "http_data = X_test.head(5).to_json(orient='split')\n",
    "r = requests.post(url=url, headers=headers, data=http_data)\n",
    "print(f'Predictions: {r.text}')"
   ]
  },
  {
   "cell_type": "markdown",
   "metadata": {},
   "source": [
    "## Vergleich zur Prediction in python"
   ]
  },
  {
   "cell_type": "code",
   "execution_count": null,
   "metadata": {},
   "outputs": [],
   "source": [
    "dec_tree.predict(X_test.head(5))"
   ]
  },
  {
   "cell_type": "code",
   "execution_count": null,
   "metadata": {},
   "outputs": [],
   "source": [
    "y_test.head(2)"
   ]
  },
  {
   "cell_type": "markdown",
   "metadata": {},
   "source": [
    "## Praxisphase IV\n",
    "\n",
    "Trainiere ein ML-Modell auf einem beliebigen Datensatz (Trainings-/Testsplit) mit sklearn und speichere es unter einem beliebigen Pfad ab. Stell sicher, dass du das Modell mithilfe des Pfads laden kannst. Benutze zur Vorhersage der ersten X Testdaten:\n",
    "\n",
    "* Das via mlflow als REST-API zur Verfügung gestellte Modell\n",
    "* Die sklearn-predict-Methode"
   ]
  }
 ],
 "metadata": {
  "kernelspec": {
   "display_name": "Python 3",
   "language": "python",
   "name": "python3"
  },
  "language_info": {
   "codemirror_mode": {
    "name": "ipython",
    "version": 3
   },
   "file_extension": ".py",
   "mimetype": "text/x-python",
   "name": "python",
   "nbconvert_exporter": "python",
   "pygments_lexer": "ipython3",
   "version": "3.7.3"
  }
 },
 "nbformat": 4,
 "nbformat_minor": 2
}
